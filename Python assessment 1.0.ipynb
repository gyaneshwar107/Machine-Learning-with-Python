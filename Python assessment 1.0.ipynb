{
 "cells": [
  {
   "cell_type": "markdown",
   "id": "dffb22f3",
   "metadata": {},
   "source": [
    "# Write a python code to to enter 10 elements in a list and make separate list for odd and even elemsts"
   ]
  },
  {
   "cell_type": "code",
   "execution_count": 13,
   "id": "378d8900",
   "metadata": {},
   "outputs": [
    {
     "name": "stdout",
     "output_type": "stream",
     "text": [
      "Enter 10 elements\n",
      "Enter element  1 : \n",
      "2\n",
      "Enter element  2 : \n",
      "12\n",
      "Enter element  3 : \n",
      "12\n",
      "Enter element  4 : \n",
      "344\n",
      "Enter element  5 : \n",
      "445\n",
      "Enter element  6 : \n",
      "77\n",
      "Enter element  7 : \n",
      "890\n",
      "Enter element  8 : \n",
      "12\n",
      "Enter element  9 : \n",
      "2\n",
      "Enter element  10 : \n",
      "33\n",
      "Original list [2, 12, 12, 344, 445, 77, 890, 12, 2, 33]\n",
      "Odd list [445, 77, 33]\n",
      "Even List [2, 12, 12, 344, 890, 12, 2]\n"
     ]
    }
   ],
   "source": [
    "lst=[]\n",
    "lst1=[]\n",
    "lst2=[]\n",
    "print(\"Enter 10 elements\")\n",
    "for i in range(0,10):\n",
    "    print(\"Enter element \",i+1,\": \")\n",
    "    x=int(input())\n",
    "    lst.append(x)\n",
    "print(\"Original list\",lst)    \n",
    "for a in range(0,10):\n",
    "    if lst[a]%2==0:\n",
    "        y=lst[a]\n",
    "        lst1.append(y)\n",
    "    else:\n",
    "        z=lst[a]\n",
    "        lst2.append(z)\n",
    "print(\"Odd list\",lst2)\n",
    "print(\"Even List\",lst1)"
   ]
  },
  {
   "cell_type": "markdown",
   "id": "d453af42",
   "metadata": {},
   "source": [
    "# Python code to check whetherthe given number is prime or not"
   ]
  },
  {
   "cell_type": "code",
   "execution_count": 11,
   "id": "b6aec493",
   "metadata": {},
   "outputs": [
    {
     "name": "stdout",
     "output_type": "stream",
     "text": [
      "Enter a number: 66\n",
      "66 is not a prime number\n"
     ]
    }
   ],
   "source": [
    "\n",
    "n= int(input(\"Enter a number: \"))\n",
    "a=0\n",
    "if n == 1:\n",
    "    print(n, \"is not a prime number\")\n",
    "elif n > 1:\n",
    "    for i in range(2, n):\n",
    "        if (n % i) == 0:\n",
    "            flag = 1\n",
    "            break\n",
    "    if a:\n",
    "        print(n, \"is not a prime number\")\n",
    "    else:\n",
    "        print(n, \"is a prime number\")\n",
    "            \n",
    "\n",
    "  "
   ]
  },
  {
   "cell_type": "markdown",
   "id": "489f5025",
   "metadata": {},
   "source": [
    "# print the partern"
   ]
  },
  {
   "cell_type": "code",
   "execution_count": 2,
   "id": "a1e8b20f",
   "metadata": {},
   "outputs": [
    {
     "name": "stdout",
     "output_type": "stream",
     "text": [
      "enter  no of rows5\n",
      "\n",
      "*\n",
      "**\n",
      "***\n",
      "****\n",
      "*****\n"
     ]
    }
   ],
   "source": [
    "x=int(input(\"enter  no of rows\"))\n",
    "for i in range(0,x+1):\n",
    "    print(\"*\"*i)"
   ]
  },
  {
   "cell_type": "markdown",
   "id": "4d8e5b18",
   "metadata": {},
   "source": [
    "# python code to check whether the given string or not"
   ]
  },
  {
   "cell_type": "code",
   "execution_count": 3,
   "id": "d411254f",
   "metadata": {},
   "outputs": [
    {
     "name": "stdout",
     "output_type": "stream",
     "text": [
      "enter a stringmalayalm\n",
      "not a palindrome\n"
     ]
    }
   ],
   "source": [
    "lst=[]\n",
    "lst=input(\"enter a string\")\n",
    "if lst[::-1]==lst:\n",
    "    print(\"it is a palindrome\")\n",
    "else:\n",
    "    print(\"not a palindrome\")"
   ]
  }
 ],
 "metadata": {
  "kernelspec": {
   "display_name": "Python 3 (ipykernel)",
   "language": "python",
   "name": "python3"
  },
  "language_info": {
   "codemirror_mode": {
    "name": "ipython",
    "version": 3
   },
   "file_extension": ".py",
   "mimetype": "text/x-python",
   "name": "python",
   "nbconvert_exporter": "python",
   "pygments_lexer": "ipython3",
   "version": "3.10.9"
  }
 },
 "nbformat": 4,
 "nbformat_minor": 5
}
