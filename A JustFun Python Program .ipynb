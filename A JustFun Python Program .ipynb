{
 "cells": [
  {
   "cell_type": "code",
   "execution_count": 8,
   "id": "e1b6cde6",
   "metadata": {},
   "outputs": [
    {
     "name": "stdout",
     "output_type": "stream",
     "text": [
      "Welcome To Password Generator: \n",
      "-> Enter the count of small and big\n",
      "   alphabets u want in ur password : 5\n",
      "-> Enter the count of number u want : 4\n",
      "-> Enter the count of speical  u want : 3\n",
      "Generating a strong password with 5 aphabets,4 numbers ,3 symbols...\n",
      ":zE(m82+/7dA\n",
      "Thank you for using PasswordGenerator... \n"
     ]
    }
   ],
   "source": [
    "import random\n",
    "k=[]#An empty list for the password to store\n",
    "print(\"Welcome To Password Generator: \")\n",
    "a=int(input(\"-> Enter the count of small and big\\n   alphabets u want in ur password : \"))\n",
    "b=int(input(\"-> Enter the count of number u want : \"))\n",
    "c=int(input(\"-> Enter the count of speical  u want : \"))\n",
    "print(f\"Generating a strong password with {a} aphabets,{b} numbers ,{c} symbols...\")\n",
    "#s=3\n",
    "#while(s!=0)\n",
    "for i in range(a):\n",
    "    d=random.randint(65,123)\n",
    "    k.append(chr(d))\n",
    "for j in range(b):\n",
    "    e=random.randint(48,58)\n",
    "    k.append(chr(e))\n",
    "for m in range(c):\n",
    "    f=random.randint(33,49)\n",
    "    k.append(chr(f))\n",
    "random.shuffle(k)\n",
    "for o in k:\n",
    "    print(o,end=\"\")\n",
    "print(\"\\nThank you for using PasswordGenerator... \")\n"
   ]
  },
  {
   "cell_type": "code",
   "execution_count": null,
   "id": "6ab720d5",
   "metadata": {},
   "outputs": [],
   "source": []
  },
  {
   "cell_type": "code",
   "execution_count": null,
   "id": "c902f204",
   "metadata": {},
   "outputs": [],
   "source": []
  }
 ],
 "metadata": {
  "kernelspec": {
   "display_name": "Python 3 (ipykernel)",
   "language": "python",
   "name": "python3"
  },
  "language_info": {
   "codemirror_mode": {
    "name": "ipython",
    "version": 3
   },
   "file_extension": ".py",
   "mimetype": "text/x-python",
   "name": "python",
   "nbconvert_exporter": "python",
   "pygments_lexer": "ipython3",
   "version": "3.10.9"
  }
 },
 "nbformat": 4,
 "nbformat_minor": 5
}
