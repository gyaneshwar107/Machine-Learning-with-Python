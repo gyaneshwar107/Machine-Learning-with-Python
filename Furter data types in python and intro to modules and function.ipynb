{
 "cells": [
  {
   "cell_type": "code",
   "execution_count": 5,
   "id": "bd39fd22",
   "metadata": {},
   "outputs": [
    {
     "name": "stdout",
     "output_type": "stream",
     "text": [
      "<class 'set'>\n",
      "{2, 'hs', 4}\n",
      "{0, 1, 2, 'er', 4, 3, 6, 7, 8, 'werew', 'w', 'hs'}\n",
      "{0, 1, 2, 'er', 4, 3, 6, 7, 8, 'werew', 'w', 'hs', 'd'}\n",
      "{0, 1, 2, 'er', 4, 3, 6, 7, 8, 'werew', 'w', 'hs'}\n"
     ]
    }
   ],
   "source": [
    "# sets\n",
    "set2={'w',1,'er',4,1,3,1,6,7,8,0,'werew'}\n",
    "set3={2,'hs',4}\n",
    "print(type(set2))\n",
    "print(set3)\n",
    "s=list(set2)\n",
    "set2.update(set3)\n",
    "print(set2)\n",
    "set2.add('d')\n",
    "print(set2)\n",
    "set2.remove('d')\n",
    "print(set2)\n",
    "\n"
   ]
  },
  {
   "cell_type": "code",
   "execution_count": 6,
   "id": "ea4157e7",
   "metadata": {},
   "outputs": [
    {
     "name": "stdout",
     "output_type": "stream",
     "text": [
      "<class 'dict'>\n",
      "{'king': 1, 'queen': 2}\n",
      "dict_keys(['king', 'queen'])\n",
      "dict_values([1, 2])\n",
      "None\n",
      "{'king': 1, 'queen': 2}\n"
     ]
    }
   ],
   "source": [
    "# dict\n",
    "di1={\"king\":1,\"queen\":2}\n",
    "print(type(di1))\n",
    "print(di1)\n",
    "print(di1.keys())\n",
    "print(di1.values())\n",
    "d2={\"prince\":3,\"princess\":4}\n",
    "print(d2.update(di1))\n",
    "print(di1)"
   ]
  },
  {
   "cell_type": "code",
   "execution_count": 15,
   "id": "6241685b",
   "metadata": {},
   "outputs": [
    {
     "name": "stdout",
     "output_type": "stream",
     "text": [
      "vakue of a:  6\n",
      "vakue of b:  2\n",
      "False\n",
      "done\n"
     ]
    }
   ],
   "source": [
    "#comparision and loop \n",
    "a=int(input(\"vakue of a:  \"))\n",
    "b=input(\"vakue of b:  \")\n",
    "if(a==b):\n",
    "    print(\"equal\")\n",
    "else:\n",
    "    print(b>a)\n",
    "print(\"done\")\n",
    "    \n",
    "\n",
    "\n"
   ]
  },
  {
   "cell_type": "code",
   "execution_count": 27,
   "id": "4f6a1c82",
   "metadata": {},
   "outputs": [
    {
     "name": "stdout",
     "output_type": "stream",
     "text": [
      "enter the value of w -90\n",
      "enter the value of v 76\n",
      "76\n",
      "-90\n",
      "False\n"
     ]
    }
   ],
   "source": [
    "#operations\n",
    "#logical\n",
    "w=int(input(\"enter the value of w \"))\n",
    "v=int(input(\"enter the value of v \" ))\n",
    "print(w and v)\n",
    "print(w or v)\n",
    "print(not w)"
   ]
  },
  {
   "cell_type": "code",
   "execution_count": 29,
   "id": "fb97dc9d",
   "metadata": {},
   "outputs": [
    {
     "name": "stdout",
     "output_type": "stream",
     "text": [
      "val of s 23\n",
      "val of d 34\n",
      "True\n",
      "False\n",
      "False\n"
     ]
    }
   ],
   "source": [
    "#comparision\n",
    "s=int(input(\"val of s \"))\n",
    "d=int(input(\"val of d \"))\n",
    "print(s<d)\n",
    "print(s>d)\n",
    "print(s==d)"
   ]
  },
  {
   "cell_type": "code",
   "execution_count": null,
   "id": "b3116676",
   "metadata": {},
   "outputs": [],
   "source": [
    "#logical and comparision\n",
    "a=int(input(\"enter your age :\"))\n",
    "b=int(input(\"enter your friend's age :\"))\n",
    "if(a>=18 and b>=18):\n",
    "    print(\"you both are adults\")\n",
    "else:\n",
    "    if(a>=18 or b>=18):\n",
    "        print(\"One of you is adult and the other one is not\")\n",
    "    else:\n",
    "        print(\"both of u are minors\")"
   ]
  },
  {
   "cell_type": "code",
   "execution_count": 39,
   "id": "a52f0e7b",
   "metadata": {},
   "outputs": [
    {
     "name": "stdout",
     "output_type": "stream",
     "text": [
      "enter val a2\n",
      "enter val b6\n",
      "2\n",
      "6\n",
      "4\n",
      "-3\n",
      "1\n",
      "12\n",
      "0\n"
     ]
    }
   ],
   "source": [
    "#operation\n",
    "#bitwise\n",
    "a=int(input(\"enter val a\"))\n",
    "b=int(input(\"enter val b\"))\n",
    "print(a&b)\n",
    "print(a|b)\n",
    "print(a^b)\n",
    "print(~(a))\n",
    "print(a>>1)\n",
    "print(b<<1)\n",
    "print(1>>1)\n"
   ]
  },
  {
   "cell_type": "code",
   "execution_count": 2,
   "id": "c8b3cc67",
   "metadata": {},
   "outputs": [
    {
     "name": "stdout",
     "output_type": "stream",
     "text": [
      "enter your age :5\n",
      "enter your friend's age :3\n",
      "both of u are minors\n"
     ]
    }
   ],
   "source": [
    "#logical and comparision\n",
    "a=int(input(\"enter your age :\"))\n",
    "b=int(input(\"enter your friend's age :\"))\n",
    "if(a>=18 and b>=18):\n",
    "    print(\"you both are adults\")\n",
    "else:\n",
    "    if(a>=18 or b>=18):\n",
    "        print(\"One of you is adult and the other one is not\")\n",
    "    else:\n",
    "        print(\"both of u are minors\")"
   ]
  },
  {
   "cell_type": "code",
   "execution_count": 38,
   "id": "4a7d892f",
   "metadata": {},
   "outputs": [
    {
     "name": "stdout",
     "output_type": "stream",
     "text": [
      "a= 2\n",
      "b= 3\n",
      "The bitwise operation of 2 and 3 are \n",
      "1)and :2\n",
      "2)or :3\n",
      "3)xor :1\n",
      "4)not of 2:-3\n",
      "5)not of 3:-4\n",
      "5)left shift of 2:4\n",
      "6)left shift of 3:6\n",
      "7)right shift of 2:4\n",
      "8)right shift of 3:6\n"
     ]
    }
   ],
   "source": [
    "#bitwise\n",
    "a=int(input(\"a= \"))\n",
    "b=int(input(\"b= \"))\n",
    "#use of f string\n",
    "print(f\"The bitwise operation of {a} and {b} are \\n1)and :{a&b}\\n2)or :{a|b}\\n3)xor :{a^b}\\n4)not of {a}:{~a}\\n5)not of {b}:{~b}\\n5)left shift of {a}:{a<<1}\\n6)left shift of {b}:{b<<1}\\n7)right shift of {a}:{a<<1}\\n8)right shift of {b}:{b<<1}\")\n"
   ]
  },
  {
   "cell_type": "code",
   "execution_count": 3,
   "id": "3bdafe2d",
   "metadata": {},
   "outputs": [
    {
     "name": "stdout",
     "output_type": "stream",
     "text": [
      "a= 67\n",
      "b= 32\n",
      "addition of a and b : 99\n",
      "subtraction of a and b : 35\n",
      "division of a and b : 2.09375\n",
      "mod of a and b : 3\n",
      "floor division of a and b : 2\n",
      "square of a to the power b : 27189028279553414235049966267283185807800188603627566700161\n"
     ]
    }
   ],
   "source": [
    "# operation with operators\n",
    "# airthmatic \n",
    "a=int(input(\"a= \"))\n",
    "b=int(input(\"b= \"))\n",
    "print(f\"addition of a and b :\" ,(a+b))\n",
    "print(\"subtraction of a and b :\" ,(a-b))\n",
    "print(\"division of a and b :\" ,(a/b))\n",
    "print(\"mod of a and b :\" ,(a%b))\n",
    "print(\"floor division of a and b :\" ,(a//b))\n",
    "print(\"square of a to the power b :\" ,(a**b))"
   ]
  },
  {
   "cell_type": "code",
   "execution_count": 43,
   "id": "54728f50",
   "metadata": {},
   "outputs": [
    {
     "name": "stdout",
     "output_type": "stream",
     "text": [
      "a= 0\n",
      "34\n"
     ]
    }
   ],
   "source": [
    "#operation\n",
    "#assingnment\n",
    "a=int(input(\"a= \"))\n",
    "a+=34\n",
    "print(a)\n"
   ]
  },
  {
   "cell_type": "code",
   "execution_count": 57,
   "id": "91d9c11e",
   "metadata": {},
   "outputs": [
    {
     "name": "stdout",
     "output_type": "stream",
     "text": [
      "1st tarkari is cabbage\n",
      "2nd tarkari is carrots\n",
      "3rd tarkari is cucumber\n",
      "1 tarkari is  cabbage2 tarkari is  carrots\n",
      "\n",
      "1 2 "
     ]
    }
   ],
   "source": [
    "#function\n",
    "def tarkari(p,q,r):\n",
    "    print(\"1st tarkari is\",p )\n",
    "    print(\"2nd tarkari is\",q )\n",
    "    print(\"3rd tarkari is\",r )\n",
    "tarkari('cabbage','carrots','cucumber')\n",
    "def tarkariii(*arg):\n",
    "    u=1\n",
    "    for i in arg:\n",
    "        print(u,\"tarkari is \",i,end=\"\")\n",
    "        u+=1\n",
    "tarkariii('cabbage','carrots') \n",
    "def ijn(**a):\n",
    "    print(\"\\n\")\n",
    "    for k,v in a.items():\n",
    "        print(v,end=\" \")\n",
    "ijn(king=1,queen=2)\n",
    "\n",
    "\n",
    "        \n",
    "    \n",
    "    \n"
   ]
  },
  {
   "cell_type": "code",
   "execution_count": null,
   "id": "86036d6f",
   "metadata": {},
   "outputs": [],
   "source": [
    "#random module"
   ]
  },
  {
   "cell_type": "code",
   "execution_count": 35,
   "id": "49396114",
   "metadata": {},
   "outputs": [
    {
     "name": "stdout",
     "output_type": "stream",
     "text": [
      "1960492536304\n",
      "1960492536304\n",
      "True\n",
      "1960492536304\n",
      "True\n"
     ]
    },
    {
     "name": "stderr",
     "output_type": "stream",
     "text": [
      "<>:9: SyntaxWarning: \"is\" with a literal. Did you mean \"==\"?\n",
      "<>:9: SyntaxWarning: \"is\" with a literal. Did you mean \"==\"?\n",
      "C:\\Users\\halfb\\AppData\\Local\\Temp\\ipykernel_50776\\50403192.py:9: SyntaxWarning: \"is\" with a literal. Did you mean \"==\"?\n",
      "  print(y is 137)\n"
     ]
    }
   ],
   "source": [
    "#operation\n",
    "#identify and membership\n",
    "x=137\n",
    "y=137\n",
    "print(id(x))\n",
    "print(id(y))\n",
    "print(x is y)\n",
    "print(id(137))\n",
    "print(y is 137)"
   ]
  },
  {
   "cell_type": "code",
   "execution_count": 24,
   "id": "0d8f3a06",
   "metadata": {},
   "outputs": [
    {
     "name": "stdout",
     "output_type": "stream",
     "text": [
      "1960573160944\n",
      "1960573160944\n",
      "True\n",
      "1960573160944\n",
      "True\n"
     ]
    },
    {
     "name": "stderr",
     "output_type": "stream",
     "text": [
      "<>:9: SyntaxWarning: \"is\" with a literal. Did you mean \"==\"?\n",
      "<>:9: SyntaxWarning: \"is\" with a literal. Did you mean \"==\"?\n",
      "C:\\Users\\halfb\\AppData\\Local\\Temp\\ipykernel_50776\\2909649637.py:9: SyntaxWarning: \"is\" with a literal. Did you mean \"==\"?\n",
      "  print(y is 'hiiiii')\n"
     ]
    }
   ],
   "source": [
    "#operation\n",
    "#identify and membership\n",
    "x='hiiiii'\n",
    "y='hiiiii'\n",
    "print(id(x))\n",
    "print(id(y))\n",
    "print(x is y)\n",
    "print(id('hiiiii'))\n",
    "print(y is 'hiiiii')"
   ]
  },
  {
   "cell_type": "code",
   "execution_count": 9,
   "id": "1d1d3726",
   "metadata": {},
   "outputs": [
    {
     "name": "stdout",
     "output_type": "stream",
     "text": [
      "invalid input operator\n"
     ]
    }
   ],
   "source": [
    "#simple calculator using function\n",
    "def cal(a,b,o):\n",
    "    if(o=='+'):\n",
    "        print(a+b)\n",
    "    elif(o=='-'):\n",
    "        print(a-b)\n",
    "    elif(o=='/'):\n",
    "        print(a/b)\n",
    "    elif(0=='%'):\n",
    "        print(a%b)\n",
    "    else:\n",
    "        print(\"invalid input operator\")\n",
    "cal(1,2,'p')"
   ]
  },
  {
   "cell_type": "code",
   "execution_count": 4,
   "id": "1cf95335",
   "metadata": {},
   "outputs": [
    {
     "name": "stdout",
     "output_type": "stream",
     "text": [
      "['BPF', 'LOG4', 'NV_MAGICCONST', 'RECIP_BPF', 'Random', 'SG_MAGICCONST', 'SystemRandom', 'TWOPI', '_ONE', '_Sequence', '_Set', '__all__', '__builtins__', '__cached__', '__doc__', '__file__', '__loader__', '__name__', '__package__', '__spec__', '_accumulate', '_acos', '_bisect', '_ceil', '_cos', '_e', '_exp', '_floor', '_index', '_inst', '_isfinite', '_log', '_os', '_pi', '_random', '_repeat', '_sha512', '_sin', '_sqrt', '_test', '_test_generator', '_urandom', '_warn', 'betavariate', 'choice', 'choices', 'expovariate', 'gammavariate', 'gauss', 'getrandbits', 'getstate', 'lognormvariate', 'normalvariate', 'paretovariate', 'randbytes', 'randint', 'random', 'randrange', 'sample', 'seed', 'setstate', 'shuffle', 'triangular', 'uniform', 'vonmisesvariate', 'weibullvariate']\n"
     ]
    }
   ],
   "source": [
    "import random as r#random module \n",
    "print(dir(r))\n",
    "#this function can be used to get to know about all the functions in a module\n",
    "#following are the names of different functions in random modules"
   ]
  },
  {
   "cell_type": "code",
   "execution_count": 5,
   "id": "6b9782a1",
   "metadata": {},
   "outputs": [
    {
     "name": "stdout",
     "output_type": "stream",
     "text": [
      "['ALLOW_THREADS', 'AxisError', 'BUFSIZE', 'CLIP', 'ComplexWarning', 'DataSource', 'ERR_CALL', 'ERR_DEFAULT', 'ERR_IGNORE', 'ERR_LOG', 'ERR_PRINT', 'ERR_RAISE', 'ERR_WARN', 'FLOATING_POINT_SUPPORT', 'FPE_DIVIDEBYZERO', 'FPE_INVALID', 'FPE_OVERFLOW', 'FPE_UNDERFLOW', 'False_', 'Inf', 'Infinity', 'MAXDIMS', 'MAY_SHARE_BOUNDS', 'MAY_SHARE_EXACT', 'ModuleDeprecationWarning', 'NAN', 'NINF', 'NZERO', 'NaN', 'PINF', 'PZERO', 'RAISE', 'RankWarning', 'SHIFT_DIVIDEBYZERO', 'SHIFT_INVALID', 'SHIFT_OVERFLOW', 'SHIFT_UNDERFLOW', 'ScalarType', 'Tester', 'TooHardError', 'True_', 'UFUNC_BUFSIZE_DEFAULT', 'UFUNC_PYVALS_NAME', 'VisibleDeprecationWarning', 'WRAP', '_CopyMode', '_NoValue', '_UFUNC_API', '__NUMPY_SETUP__', '__all__', '__builtins__', '__cached__', '__config__', '__deprecated_attrs__', '__dir__', '__doc__', '__expired_functions__', '__file__', '__getattr__', '__git_version__', '__loader__', '__mkl_version__', '__name__', '__package__', '__path__', '__spec__', '__version__', '_add_newdoc_ufunc', '_distributor_init', '_financial_names', '_globals', '_mat', '_pyinstaller_hooks_dir', '_pytesttester', '_version', 'abs', 'absolute', 'add', 'add_docstring', 'add_newdoc', 'add_newdoc_ufunc', 'all', 'allclose', 'alltrue', 'amax', 'amin', 'angle', 'any', 'append', 'apply_along_axis', 'apply_over_axes', 'arange', 'arccos', 'arccosh', 'arcsin', 'arcsinh', 'arctan', 'arctan2', 'arctanh', 'argmax', 'argmin', 'argpartition', 'argsort', 'argwhere', 'around', 'array', 'array2string', 'array_equal', 'array_equiv', 'array_repr', 'array_split', 'array_str', 'asanyarray', 'asarray', 'asarray_chkfinite', 'ascontiguousarray', 'asfarray', 'asfortranarray', 'asmatrix', 'atleast_1d', 'atleast_2d', 'atleast_3d', 'average', 'bartlett', 'base_repr', 'binary_repr', 'bincount', 'bitwise_and', 'bitwise_not', 'bitwise_or', 'bitwise_xor', 'blackman', 'block', 'bmat', 'bool8', 'bool_', 'broadcast', 'broadcast_arrays', 'broadcast_shapes', 'broadcast_to', 'busday_count', 'busday_offset', 'busdaycalendar', 'byte', 'byte_bounds', 'bytes0', 'bytes_', 'c_', 'can_cast', 'cast', 'cbrt', 'cdouble', 'ceil', 'cfloat', 'char', 'character', 'chararray', 'choose', 'clip', 'clongdouble', 'clongfloat', 'column_stack', 'common_type', 'compare_chararrays', 'compat', 'complex128', 'complex64', 'complex_', 'complexfloating', 'compress', 'concatenate', 'conj', 'conjugate', 'convolve', 'copy', 'copysign', 'copyto', 'core', 'corrcoef', 'correlate', 'cos', 'cosh', 'count_nonzero', 'cov', 'cross', 'csingle', 'ctypeslib', 'cumprod', 'cumproduct', 'cumsum', 'datetime64', 'datetime_as_string', 'datetime_data', 'deg2rad', 'degrees', 'delete', 'deprecate', 'deprecate_with_doc', 'diag', 'diag_indices', 'diag_indices_from', 'diagflat', 'diagonal', 'diff', 'digitize', 'disp', 'divide', 'divmod', 'dot', 'double', 'dsplit', 'dstack', 'dtype', 'e', 'ediff1d', 'einsum', 'einsum_path', 'emath', 'empty', 'empty_like', 'equal', 'errstate', 'euler_gamma', 'exp', 'exp2', 'expand_dims', 'expm1', 'extract', 'eye', 'fabs', 'fastCopyAndTranspose', 'fft', 'fill_diagonal', 'find_common_type', 'finfo', 'fix', 'flatiter', 'flatnonzero', 'flexible', 'flip', 'fliplr', 'flipud', 'float16', 'float32', 'float64', 'float_', 'float_power', 'floating', 'floor', 'floor_divide', 'fmax', 'fmin', 'fmod', 'format_float_positional', 'format_float_scientific', 'format_parser', 'frexp', 'from_dlpack', 'frombuffer', 'fromfile', 'fromfunction', 'fromiter', 'frompyfunc', 'fromregex', 'fromstring', 'full', 'full_like', 'gcd', 'generic', 'genfromtxt', 'geomspace', 'get_array_wrap', 'get_include', 'get_printoptions', 'getbufsize', 'geterr', 'geterrcall', 'geterrobj', 'gradient', 'greater', 'greater_equal', 'half', 'hamming', 'hanning', 'heaviside', 'histogram', 'histogram2d', 'histogram_bin_edges', 'histogramdd', 'hsplit', 'hstack', 'hypot', 'i0', 'identity', 'iinfo', 'imag', 'in1d', 'index_exp', 'indices', 'inexact', 'inf', 'info', 'infty', 'inner', 'insert', 'int0', 'int16', 'int32', 'int64', 'int8', 'int_', 'intc', 'integer', 'interp', 'intersect1d', 'intp', 'invert', 'is_busday', 'isclose', 'iscomplex', 'iscomplexobj', 'isfinite', 'isfortran', 'isin', 'isinf', 'isnan', 'isnat', 'isneginf', 'isposinf', 'isreal', 'isrealobj', 'isscalar', 'issctype', 'issubclass_', 'issubdtype', 'issubsctype', 'iterable', 'ix_', 'kaiser', 'kron', 'lcm', 'ldexp', 'left_shift', 'less', 'less_equal', 'lexsort', 'lib', 'linalg', 'linspace', 'little_endian', 'load', 'loadtxt', 'log', 'log10', 'log1p', 'log2', 'logaddexp', 'logaddexp2', 'logical_and', 'logical_not', 'logical_or', 'logical_xor', 'logspace', 'longcomplex', 'longdouble', 'longfloat', 'longlong', 'lookfor', 'ma', 'mask_indices', 'mat', 'math', 'matmul', 'matrix', 'matrixlib', 'max', 'maximum', 'maximum_sctype', 'may_share_memory', 'mean', 'median', 'memmap', 'meshgrid', 'mgrid', 'min', 'min_scalar_type', 'minimum', 'mintypecode', 'mkl', 'mod', 'modf', 'moveaxis', 'msort', 'multiply', 'nan', 'nan_to_num', 'nanargmax', 'nanargmin', 'nancumprod', 'nancumsum', 'nanmax', 'nanmean', 'nanmedian', 'nanmin', 'nanpercentile', 'nanprod', 'nanquantile', 'nanstd', 'nansum', 'nanvar', 'nbytes', 'ndarray', 'ndenumerate', 'ndim', 'ndindex', 'nditer', 'negative', 'nested_iters', 'newaxis', 'nextafter', 'nonzero', 'not_equal', 'numarray', 'number', 'obj2sctype', 'object0', 'object_', 'ogrid', 'oldnumeric', 'ones', 'ones_like', 'os', 'outer', 'packbits', 'pad', 'partition', 'percentile', 'pi', 'piecewise', 'place', 'poly', 'poly1d', 'polyadd', 'polyder', 'polydiv', 'polyfit', 'polyint', 'polymul', 'polynomial', 'polysub', 'polyval', 'positive', 'power', 'printoptions', 'prod', 'product', 'promote_types', 'ptp', 'put', 'put_along_axis', 'putmask', 'quantile', 'r_', 'rad2deg', 'radians', 'random', 'ravel', 'ravel_multi_index', 'real', 'real_if_close', 'rec', 'recarray', 'recfromcsv', 'recfromtxt', 'reciprocal', 'record', 'remainder', 'repeat', 'require', 'reshape', 'resize', 'result_type', 'right_shift', 'rint', 'roll', 'rollaxis', 'roots', 'rot90', 'round', 'round_', 'row_stack', 's_', 'safe_eval', 'save', 'savetxt', 'savez', 'savez_compressed', 'sctype2char', 'sctypeDict', 'sctypes', 'searchsorted', 'select', 'set_numeric_ops', 'set_printoptions', 'set_string_function', 'setbufsize', 'setdiff1d', 'seterr', 'seterrcall', 'seterrobj', 'setxor1d', 'shape', 'shares_memory', 'short', 'show_config', 'sign', 'signbit', 'signedinteger', 'sin', 'sinc', 'single', 'singlecomplex', 'sinh', 'size', 'sometrue', 'sort', 'sort_complex', 'source', 'spacing', 'split', 'sqrt', 'square', 'squeeze', 'stack', 'std', 'str0', 'str_', 'string_', 'subtract', 'sum', 'swapaxes', 'sys', 'take', 'take_along_axis', 'tan', 'tanh', 'tensordot', 'test', 'testing', 'tile', 'timedelta64', 'trace', 'tracemalloc_domain', 'transpose', 'trapz', 'tri', 'tril', 'tril_indices', 'tril_indices_from', 'trim_zeros', 'triu', 'triu_indices', 'triu_indices_from', 'true_divide', 'trunc', 'typecodes', 'typename', 'ubyte', 'ufunc', 'uint', 'uint0', 'uint16', 'uint32', 'uint64', 'uint8', 'uintc', 'uintp', 'ulonglong', 'unicode_', 'union1d', 'unique', 'unpackbits', 'unravel_index', 'unsignedinteger', 'unwrap', 'use_hugepage', 'ushort', 'vander', 'var', 'vdot', 'vectorize', 'version', 'void', 'void0', 'vsplit', 'vstack', 'warnings', 'where', 'who', 'zeros', 'zeros_like']\n"
     ]
    }
   ],
   "source": [
    "#another example \n",
    "import numpy as np\n",
    "print(dir(np))"
   ]
  },
  {
   "cell_type": "code",
   "execution_count": null,
   "id": "b9b006a5",
   "metadata": {},
   "outputs": [],
   "source": []
  }
 ],
 "metadata": {
  "kernelspec": {
   "display_name": "Python 3 (ipykernel)",
   "language": "python",
   "name": "python3"
  },
  "language_info": {
   "codemirror_mode": {
    "name": "ipython",
    "version": 3
   },
   "file_extension": ".py",
   "mimetype": "text/x-python",
   "name": "python",
   "nbconvert_exporter": "python",
   "pygments_lexer": "ipython3",
   "version": "3.10.9"
  }
 },
 "nbformat": 4,
 "nbformat_minor": 5
}
