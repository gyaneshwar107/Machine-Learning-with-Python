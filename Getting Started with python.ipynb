{
 "cells": [
  {
   "cell_type": "code",
   "execution_count": 2,
   "id": "9d0d1143",
   "metadata": {},
   "outputs": [
    {
     "name": "stdout",
     "output_type": "stream",
     "text": [
      "the sum of a and b is: 5\n"
     ]
    }
   ],
   "source": [
    "a=2\n",
    "b=3\n",
    "print(\"the sum of a and b is:\",a+b)"
   ]
  },
  {
   "cell_type": "code",
   "execution_count": 17,
   "id": "bb7c6b0f",
   "metadata": {},
   "outputs": [
    {
     "name": "stdout",
     "output_type": "stream",
     "text": [
      "The difference between a and b : -1\n",
      "The difference between a and c : -5\n",
      "The difference between b and c:  -4\n",
      "The difference between a, b and c:  -8\n",
      "the divsion between a and b: 0.6666666666666666\n",
      "the result of a^b: 8\n",
      "the square root of a 1.4142135623730951\n",
      "the square root of b 1.7320508075688772\n",
      "the square root of c 2.6457513110645907\n",
      "the mod of a and b 2\n"
     ]
    }
   ],
   "source": [
    "#all types of Airthmatic operations\n",
    "c=7\n",
    "print(\"The difference between a and b :\",(a-b))\n",
    "print(\"The difference between a and c :\",(a-c))\n",
    "print(\"The difference between b and c: \",(b-c))\n",
    "print(\"The difference between a, b and c: \",(a-b-c))\n",
    "print(\"the divsion between a and b:\",(a/b))\n",
    "print(\"the result of a^b:\",a**b)\n",
    "print(\"the square root of a\",(a**(1/2)))\n",
    "print(\"the square root of b\",(b**(1/2)))\n",
    "print(\"the square root of c\",(c**(1/2)))\n",
    "print(\"the mod of a and b\",(a%b))"
   ]
  },
  {
   "cell_type": "code",
   "execution_count": 134,
   "id": "5f35c8f5",
   "metadata": {},
   "outputs": [
    {
     "name": "stdout",
     "output_type": "stream",
     "text": [
      "['abinav', (2+1j), (2+1j), 2, 34, 'abinav', (2+1j), (2+1j), 2, 34]\n",
      "ab\n",
      "<class 'int'>\n",
      "5\n",
      "6\n",
      "<class 'str'>\n",
      "<class 'complex'>\n",
      "<class 'complex'>\n"
     ]
    }
   ],
   "source": [
    "d=2+((-1)**(1/2))\n",
    "#print(type(d))\n",
    "e=a+4j\n",
    "#print(type(e))\n",
    "f=[\"abhi\",d,a,2,34]\n",
    "x=f[0][0:2]\n",
    "v=\"inav\"\n",
    "y=x+v\n",
    "f[0]=y\n",
    "h=[\"hgf\",3,4,2]\n",
    "print(f+f)\n",
    "print(f[0][0:2])\n",
    "print(type(f[-2]))\n",
    "print(len(f))\n",
    "print(len(f[0]))\n",
    "for i in range (3):\n",
    "    print(type(f[i]))"
   ]
  },
  {
   "cell_type": "code",
   "execution_count": 128,
   "id": "56ef061b",
   "metadata": {},
   "outputs": [
    {
     "name": "stdout",
     "output_type": "stream",
     "text": [
      "<class 'tuple'>\n"
     ]
    }
   ],
   "source": [
    "g=(a,b,5,6,6,'kk')#inmutables\n",
    "print(type(g))"
   ]
  },
  {
   "cell_type": "code",
   "execution_count": 147,
   "id": "440bb4de",
   "metadata": {},
   "outputs": [
    {
     "name": "stdout",
     "output_type": "stream",
     "text": [
      "[2, 1, 2, 1, 3, 6]\n",
      "[2, 1, 2, 1, 3]\n"
     ]
    }
   ],
   "source": [
    "i=[2,1,2,1,3]\n",
    "i.append(5)#inserting a element in list\n",
    "i[5]=6\n",
    "print(i)\n",
    "i[5]=9\n",
    "i.pop()#deleting an element in list\n",
    "print(i)"
   ]
  },
  {
   "cell_type": "code",
   "execution_count": null,
   "id": "d4b0040b",
   "metadata": {},
   "outputs": [],
   "source": []
  }
 ],
 "metadata": {
  "kernelspec": {
   "display_name": "Python 3 (ipykernel)",
   "language": "python",
   "name": "python3"
  },
  "language_info": {
   "codemirror_mode": {
    "name": "ipython",
    "version": 3
   },
   "file_extension": ".py",
   "mimetype": "text/x-python",
   "name": "python",
   "nbconvert_exporter": "python",
   "pygments_lexer": "ipython3",
   "version": "3.10.9"
  }
 },
 "nbformat": 4,
 "nbformat_minor": 5
}
